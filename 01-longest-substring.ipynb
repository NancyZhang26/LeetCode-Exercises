{
 "cells": [
  {
   "cell_type": "code",
   "execution_count": null,
   "id": "1b653f64",
   "metadata": {
    "vscode": {
     "languageId": "plaintext"
    }
   },
   "outputs": [],
   "source": [
    "public static void main(String[] args) {\n",
    "        String str = \"bbb\";\n",
    "        System.out.println(lengthOfLongestSubstring(str));\n",
    "    }\n",
    "    \n",
    "    /**\n",
    "     * Longest substring with unique characters\n",
    "     * @param s\n",
    "     * @return length of the substring\n",
    "     */\n",
    "    public static int lengthOfLongestSubstring(String s) {\n",
    "\n",
    "        ArrayList<Character> list = new ArrayList<>();\n",
    "        int currString = 0;\n",
    "        int maxString = 0;\n",
    "\n",
    "        for (int i = 0; i < s.length(); i++) {\n",
    "            char c = s.charAt(i);\n",
    "            if (list.contains(c)) {\n",
    "                int index = list.indexOf(c);\n",
    "                list.add(c);\n",
    "                list = new ArrayList<>(list.subList(index+1, list.size())); // subList is exclusive at the end\n",
    "                currString = list.size();\n",
    "            } else {\n",
    "                list.add(c);\n",
    "                currString++;\n",
    "                if (currString > maxString) {\n",
    "                    maxString = currString;\n",
    "                }\n",
    "            }\n",
    "        }\n",
    "\n",
    "        return maxString;\n",
    "    }"
   ]
  }
 ],
 "metadata": {
  "language_info": {
   "name": "python"
  }
 },
 "nbformat": 4,
 "nbformat_minor": 5
}
